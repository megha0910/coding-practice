{
 "cells": [
  {
   "cell_type": "code",
   "execution_count": 1,
   "id": "1f4651d1-98cd-4caa-9ac8-4fcb973842bb",
   "metadata": {},
   "outputs": [],
   "source": [
    "name=\"Megha\""
   ]
  },
  {
   "cell_type": "code",
   "execution_count": 3,
   "id": "df758240-f5a2-4169-8a27-578926a1e95c",
   "metadata": {},
   "outputs": [
    {
     "name": "stdout",
     "output_type": "stream",
     "text": [
      "name is equal to Megha\n"
     ]
    }
   ],
   "source": [
    "if name!=\"Megha\":\n",
    "    print(\"Okay\")\n",
    "else if name==\"Gita\":\n",
    "    print(\"HI\"+name)\n",
    "else:\n",
    "    print(\"name is equal to Megha\")"
   ]
  },
  {
   "cell_type": "code",
   "execution_count": 10,
   "id": "d08cfd4a-7f08-4b93-8d50-266805b19cc2",
   "metadata": {},
   "outputs": [],
   "source": [
    "answer=\"Yes\""
   ]
  },
  {
   "cell_type": "code",
   "execution_count": 11,
   "id": "40a69c48-71a1-4da4-970d-237ff0ab5ae9",
   "metadata": {},
   "outputs": [
    {
     "name": "stdout",
     "output_type": "stream",
     "text": [
      "incorrect\n"
     ]
    }
   ],
   "source": [
    "if answer!=\"Yes\":\n",
    "   print(\"correct\")\n",
    "else:\n",
    "    print(\"incorrect\")"
   ]
  },
  {
   "cell_type": "code",
   "execution_count": 2,
   "id": "ac10c47b-6144-4a70-9357-9f7132664242",
   "metadata": {},
   "outputs": [
    {
     "name": "stdout",
     "output_type": "stream",
     "text": [
      "Megha\n",
      "Hari\n",
      "Thri\n"
     ]
    }
   ],
   "source": [
    "names=[\"Megha\",\"Hari\",\"Thri\"]\n",
    "for items in names:\n",
    " print(items)"
   ]
  },
  {
   "cell_type": "markdown",
   "id": "6e9b792e-84f1-4d0f-876a-ded5a061eca8",
   "metadata": {},
   "source": [
    "# if_else_elseif"
   ]
  },
  {
   "cell_type": "code",
   "execution_count": 19,
   "id": "2f65a52a-5697-4511-babc-def1d93b7d54",
   "metadata": {},
   "outputs": [],
   "source": [
    "a=10"
   ]
  },
  {
   "cell_type": "code",
   "execution_count": 20,
   "id": "099b1d64-a478-43bc-a144-aab6fbbbc564",
   "metadata": {},
   "outputs": [
    {
     "name": "stdout",
     "output_type": "stream",
     "text": [
      "False\n"
     ]
    }
   ],
   "source": [
    "if a>10:\n",
    "    print(\"True\")\n",
    "else:\n",
    "    print(\"False\")\n",
    "    "
   ]
  },
  {
   "cell_type": "code",
   "execution_count": 18,
   "id": "6b604d14-0f03-4d73-8f39-00c0350e26d3",
   "metadata": {},
   "outputs": [
    {
     "name": "stdout",
     "output_type": "stream",
     "text": [
      "apples is on the list\n"
     ]
    }
   ],
   "source": [
    "fruits=[\"apples\",\"oranges\",\"mangoes\",\"strawberry\"]\n",
    "for items in fruits:\n",
    "    if items==\"apples\":\n",
    "      print(f\"{items} is on the list\")\n",
    "      break\n",
    "else:\n",
    "    print(\"no\")\n",
    "    "
   ]
  },
  {
   "cell_type": "code",
   "execution_count": null,
   "id": "e9c4f71c-909c-4a68-9b0f-0ef78afcb006",
   "metadata": {},
   "outputs": [],
   "source": []
  }
 ],
 "metadata": {
  "kernelspec": {
   "display_name": "Python 3 (ipykernel)",
   "language": "python",
   "name": "python3"
  },
  "language_info": {
   "codemirror_mode": {
    "name": "ipython",
    "version": 3
   },
   "file_extension": ".py",
   "mimetype": "text/x-python",
   "name": "python",
   "nbconvert_exporter": "python",
   "pygments_lexer": "ipython3",
   "version": "3.12.4"
  }
 },
 "nbformat": 4,
 "nbformat_minor": 5
}
