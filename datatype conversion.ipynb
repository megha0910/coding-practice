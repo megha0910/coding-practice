{
 "cells": [
  {
   "cell_type": "code",
   "execution_count": 1,
   "id": "43b1eb6a-18fc-43e5-9b7c-f642653e967c",
   "metadata": {},
   "outputs": [
    {
     "data": {
      "text/plain": [
       "str"
      ]
     },
     "execution_count": 1,
     "metadata": {},
     "output_type": "execute_result"
    }
   ],
   "source": [
    "#string\n",
    "name=\"Megha\"\n",
    "type(name)\n"
   ]
  },
  {
   "cell_type": "code",
   "execution_count": 3,
   "id": "e577c189-ba7e-426b-9f49-be812f8bd17a",
   "metadata": {},
   "outputs": [
    {
     "data": {
      "text/plain": [
       "int"
      ]
     },
     "execution_count": 3,
     "metadata": {},
     "output_type": "execute_result"
    }
   ],
   "source": [
    "#integer\n",
    "birth_year=2002\n",
    "type(birth_year)"
   ]
  },
  {
   "cell_type": "code",
   "execution_count": 6,
   "id": "f15c51ab-af86-46ce-a436-2d9712efbdcd",
   "metadata": {},
   "outputs": [
    {
     "data": {
      "text/plain": [
       "str"
      ]
     },
     "execution_count": 6,
     "metadata": {},
     "output_type": "execute_result"
    }
   ],
   "source": [
    "#conversion of interger to string\n",
    "birth_year=str(birth_year)\n",
    "type(birth_year)"
   ]
  },
  {
   "cell_type": "code",
   "execution_count": 7,
   "id": "0ec2de19-a71f-4648-a610-67df5ccf3b92",
   "metadata": {},
   "outputs": [
    {
     "data": {
      "text/plain": [
       "'Megha2002'"
      ]
     },
     "execution_count": 7,
     "metadata": {},
     "output_type": "execute_result"
    }
   ],
   "source": [
    "user_id=name+birth_year\n",
    "user_id"
   ]
  },
  {
   "cell_type": "code",
   "execution_count": 8,
   "id": "76aba552-f62d-456e-a577-56fb3ece593a",
   "metadata": {},
   "outputs": [
    {
     "data": {
      "text/plain": [
       "float"
      ]
     },
     "execution_count": 8,
     "metadata": {},
     "output_type": "execute_result"
    }
   ],
   "source": [
    "#float\n",
    "weight=53.4\n",
    "type(weight)"
   ]
  },
  {
   "cell_type": "code",
   "execution_count": 9,
   "id": "09f90e99-c7b1-4c44-958c-3425a41c58b1",
   "metadata": {},
   "outputs": [
    {
     "data": {
      "text/plain": [
       "int"
      ]
     },
     "execution_count": 9,
     "metadata": {},
     "output_type": "execute_result"
    }
   ],
   "source": [
    "#conversion of float to integer\n",
    "weight=int(weight)\n",
    "type(weight)"
   ]
  },
  {
   "cell_type": "code",
   "execution_count": 10,
   "id": "9cb46f10-a318-45d1-8e91-9d379bf74990",
   "metadata": {},
   "outputs": [
    {
     "data": {
      "text/plain": [
       "float"
      ]
     },
     "execution_count": 10,
     "metadata": {},
     "output_type": "execute_result"
    }
   ],
   "source": [
    "total_marks=80\n",
    "#conversion of interger to float\n",
    "total_marks=float(total_marks)\n",
    "type(total_marks)"
   ]
  },
  {
   "cell_type": "code",
   "execution_count": null,
   "id": "d87b6f42-7405-4ed4-b796-ecaf388b2171",
   "metadata": {},
   "outputs": [],
   "source": [
    "  "
   ]
  }
 ],
 "metadata": {
  "kernelspec": {
   "display_name": "Python 3 (ipykernel)",
   "language": "python",
   "name": "python3"
  },
  "language_info": {
   "codemirror_mode": {
    "name": "ipython",
    "version": 3
   },
   "file_extension": ".py",
   "mimetype": "text/x-python",
   "name": "python",
   "nbconvert_exporter": "python",
   "pygments_lexer": "ipython3",
   "version": "3.12.4"
  }
 },
 "nbformat": 4,
 "nbformat_minor": 5
}
