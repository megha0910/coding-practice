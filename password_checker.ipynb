{
 "cells": [
  {
   "cell_type": "code",
   "execution_count": 1,
   "id": "cf4f36f9-5ec7-4f9a-a567-036c98c22c45",
   "metadata": {},
   "outputs": [
    {
     "name": "stdin",
     "output_type": "stream",
     "text": [
      "Whats your user name ?  Megha\n",
      "Whats your password ? MK09\n"
     ]
    },
    {
     "name": "stdout",
     "output_type": "stream",
     "text": [
      "Invalid password\n"
     ]
    }
   ],
   "source": [
    "# creating our first password checker\n",
    "\n",
    "#defining variables\n",
    "\n",
    "user_name=\"Megha\" \n",
    "\n",
    "password=\"Mk09\"\n",
    "\n",
    "#define inputs\n",
    "\n",
    "input_user_name=input(\"Whats your user name ? \")\n",
    "input_password=input(\"Whats your password ?\")\n",
    "\n",
    "\n",
    "#conditions\n",
    "\n",
    "if input_user_name==user_name and input_password == password:\n",
    "    print(f\"Login Sucessfull {user_name}\")\n",
    "elif input_user_name != user_name and input_password == password:\n",
    "    print(\"Invalid username\")\n",
    "elif input_user_name == user_name and input_password != password:\n",
    "    print(\"Invalid password\")\n",
    "else:\n",
    "    print(\"sorry no match found\")"
   ]
  },
  {
   "cell_type": "code",
   "execution_count": 2,
   "id": "f24fb36a-4b2f-403c-b843-e6d55721bdf3",
   "metadata": {},
   "outputs": [
    {
     "name": "stdin",
     "output_type": "stream",
     "text": [
      "Whats your user name ?  Megha\n",
      "Whats your password ? Mk09\n"
     ]
    },
    {
     "name": "stdout",
     "output_type": "stream",
     "text": [
      "Login Sucessfull Megha\n"
     ]
    }
   ],
   "source": [
    "# creating our first password checker\n",
    "\n",
    "#defining variables\n",
    "\n",
    "user_name=\"Megha\" \n",
    "password=\"Mk09\"\n",
    "\n",
    "#define inputs\n",
    "\n",
    "input_user_name=input(\"Whats your user name ? \")\n",
    "input_password=input(\"Whats your password ?\")\n",
    "\n",
    "\n",
    "#conditions\n",
    "\n",
    "if input_user_name==user_name and input_password == password:\n",
    "    print(f\"Login Sucessfull {user_name}\")\n",
    "elif input_user_name != user_name and input_password == password:\n",
    "    print(\"Invalid username\")\n",
    "elif input_user_name == user_name and input_password != password:\n",
    "    print(\"Invalid password\")\n",
    "else:\n",
    "    print(\"sorry no match found\")"
   ]
  },
  {
   "cell_type": "code",
   "execution_count": null,
   "id": "06adc11a-a4b0-4bdc-9745-fba68a008708",
   "metadata": {},
   "outputs": [],
   "source": []
  }
 ],
 "metadata": {
  "kernelspec": {
   "display_name": "Python 3 (ipykernel)",
   "language": "python",
   "name": "python3"
  },
  "language_info": {
   "codemirror_mode": {
    "name": "ipython",
    "version": 3
   },
   "file_extension": ".py",
   "mimetype": "text/x-python",
   "name": "python",
   "nbconvert_exporter": "python",
   "pygments_lexer": "ipython3",
   "version": "3.12.4"
  }
 },
 "nbformat": 4,
 "nbformat_minor": 5
}
