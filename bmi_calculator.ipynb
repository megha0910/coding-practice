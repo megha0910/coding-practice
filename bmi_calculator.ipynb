{
 "cells": [
  {
   "cell_type": "code",
   "execution_count": 1,
   "id": "c3a648cd-3f51-4aff-a063-c21172b06d92",
   "metadata": {},
   "outputs": [
    {
     "name": "stdin",
     "output_type": "stream",
     "text": [
      "Please enter your weight in Kgs   50\n",
      "Please enter your height in meters   1.65\n"
     ]
    },
    {
     "name": "stdout",
     "output_type": "stream",
     "text": [
      "18.36547291092746\n",
      "you are underweight\n"
     ]
    }
   ],
   "source": [
    "#defining variables\n",
    "\n",
    "weight= input(\"Please enter your weight in Kgs  \")\n",
    "height= input(\"Please enter your height in meters  \")\n",
    "\n",
    "bmi= int(weight)/float(height)**2\n",
    "print(bmi)\n",
    "#conditions\n",
    "\n",
    "if bmi<18.5:\n",
    "    print(\"you are underweight\")\n",
    "elif bmi>=18.5 and bmi<=24.9:\n",
    "    print(\"You have healthy weight\")\n",
    "elif bmi>=25.0 and bmi<=29.9:\n",
    "    print(\"you are over weight\")\n",
    "elif bmi>=30:\n",
    "    print(\"you are obese\")\n",
    "else :\n",
    "    print(\"cannot calculate bmi\")"
   ]
  },
  {
   "cell_type": "code",
   "execution_count": 2,
   "id": "24578bc0-fba0-4b9e-b1a0-f4add98dee20",
   "metadata": {},
   "outputs": [
    {
     "name": "stdin",
     "output_type": "stream",
     "text": [
      "Please enter your weight in Kgs   75\n",
      "Please enter your height in meters   1.75\n"
     ]
    },
    {
     "name": "stdout",
     "output_type": "stream",
     "text": [
      "24.489795918367346\n",
      "You have healthy weight\n"
     ]
    }
   ],
   "source": [
    "#defining variables\n",
    "\n",
    "weight= input(\"Please enter your weight in Kgs  \")\n",
    "height= input(\"Please enter your height in meters  \")\n",
    "\n",
    "bmi= int(weight)/float(height)**2\n",
    "print(bmi)\n",
    "#conditions\n",
    "\n",
    "if bmi<18.5:\n",
    "    print(\"you are underweight\")\n",
    "elif bmi>=18.5 and bmi<=24.9:\n",
    "    print(\"You have healthy weight\")\n",
    "elif bmi>=25.0 and bmi<=29.9:\n",
    "    print(\"you are over weight\")\n",
    "elif bmi>=30:\n",
    "    print(\"you are obese\")\n",
    "else :\n",
    "    print(\"cannot calculate bmi\")"
   ]
  },
  {
   "cell_type": "code",
   "execution_count": null,
   "id": "f6d01681-86da-40a2-8978-3f81717d6056",
   "metadata": {},
   "outputs": [],
   "source": []
  }
 ],
 "metadata": {
  "kernelspec": {
   "display_name": "Python 3 (ipykernel)",
   "language": "python",
   "name": "python3"
  },
  "language_info": {
   "codemirror_mode": {
    "name": "ipython",
    "version": 3
   },
   "file_extension": ".py",
   "mimetype": "text/x-python",
   "name": "python",
   "nbconvert_exporter": "python",
   "pygments_lexer": "ipython3",
   "version": "3.12.4"
  }
 },
 "nbformat": 4,
 "nbformat_minor": 5
}
